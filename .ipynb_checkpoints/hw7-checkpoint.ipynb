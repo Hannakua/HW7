{
 "cells": [
  {
   "cell_type": "code",
   "execution_count": 36,
   "id": "57e35f8e-6ff1-40c5-85bf-c3f24b7df2de",
   "metadata": {},
   "outputs": [],
   "source": [
    "from surprise import SVD, SVDpp, NMF\n",
    "from surprise import Dataset, NormalPredictor\n",
    "from surprise.model_selection import cross_validate\n",
    "import pandas as pd\n",
    "# import numpy as np\n",
    "from surprise import Reader\n",
    "from surprise.model_selection import GridSearchCV\n",
    "from surprise.model_selection import train_test_split\n",
    "from surprise import accuracy\n",
    "\n",
    "# # Завантажуємо movielens-100k dataset\n",
    "# data_suprise = Dataset.load_builtin('ml-100k')"
   ]
  },
  {
   "cell_type": "code",
   "execution_count": 11,
   "id": "bbe3cf0b-2f85-4abf-928d-553f7b5cb61c",
   "metadata": {},
   "outputs": [
    {
     "data": {
      "text/html": [
       "<div>\n",
       "<style scoped>\n",
       "    .dataframe tbody tr th:only-of-type {\n",
       "        vertical-align: middle;\n",
       "    }\n",
       "\n",
       "    .dataframe tbody tr th {\n",
       "        vertical-align: top;\n",
       "    }\n",
       "\n",
       "    .dataframe thead th {\n",
       "        text-align: right;\n",
       "    }\n",
       "</style>\n",
       "<table border=\"1\" class=\"dataframe\">\n",
       "  <thead>\n",
       "    <tr style=\"text-align: right;\">\n",
       "      <th></th>\n",
       "      <th>userId</th>\n",
       "      <th>movieId</th>\n",
       "      <th>rating</th>\n",
       "      <th>timestamp</th>\n",
       "    </tr>\n",
       "  </thead>\n",
       "  <tbody>\n",
       "    <tr>\n",
       "      <th>0</th>\n",
       "      <td>1</td>\n",
       "      <td>1</td>\n",
       "      <td>4.0</td>\n",
       "      <td>964982703</td>\n",
       "    </tr>\n",
       "    <tr>\n",
       "      <th>1</th>\n",
       "      <td>1</td>\n",
       "      <td>3</td>\n",
       "      <td>4.0</td>\n",
       "      <td>964981247</td>\n",
       "    </tr>\n",
       "    <tr>\n",
       "      <th>2</th>\n",
       "      <td>1</td>\n",
       "      <td>6</td>\n",
       "      <td>4.0</td>\n",
       "      <td>964982224</td>\n",
       "    </tr>\n",
       "    <tr>\n",
       "      <th>3</th>\n",
       "      <td>1</td>\n",
       "      <td>47</td>\n",
       "      <td>5.0</td>\n",
       "      <td>964983815</td>\n",
       "    </tr>\n",
       "    <tr>\n",
       "      <th>4</th>\n",
       "      <td>1</td>\n",
       "      <td>50</td>\n",
       "      <td>5.0</td>\n",
       "      <td>964982931</td>\n",
       "    </tr>\n",
       "  </tbody>\n",
       "</table>\n",
       "</div>"
      ],
      "text/plain": [
       "   userId  movieId  rating  timestamp\n",
       "0       1        1     4.0  964982703\n",
       "1       1        3     4.0  964981247\n",
       "2       1        6     4.0  964982224\n",
       "3       1       47     5.0  964983815\n",
       "4       1       50     5.0  964982931"
      ]
     },
     "execution_count": 11,
     "metadata": {},
     "output_type": "execute_result"
    }
   ],
   "source": [
    "data_csv = pd.read_csv('ml-latest-small/ratings.csv', low_memory=False)\n",
    "data_csv.head()"
   ]
  },
  {
   "cell_type": "code",
   "execution_count": 12,
   "id": "0ad55695-6c8f-4ebb-baa8-095f4324e622",
   "metadata": {},
   "outputs": [],
   "source": [
    "reader = Reader(line_format='user item rating timestamp', sep=',', rating_scale=(1, 5))\n",
    "data_suprise = Dataset.load_from_df(data_csv[['userId', 'movieId', 'rating']], reader=reader)\n",
    "data = data_csv[['userId', 'movieId', 'rating']]"
   ]
  },
  {
   "cell_type": "code",
   "execution_count": 28,
   "id": "5bd22408-eb2d-44df-aeb8-aad3aedf0c33",
   "metadata": {},
   "outputs": [
    {
     "data": {
      "text/plain": [
       "{'test_rmse': array([1.4243558 , 1.42370015]),\n",
       " 'test_mae': array([1.13874807, 1.13721829]),\n",
       " 'fit_time': (0.15746235847473145, 0.17040634155273438),\n",
       " 'test_time': (0.58148193359375, 0.8801078796386719)}"
      ]
     },
     "execution_count": 28,
     "metadata": {},
     "output_type": "execute_result"
    }
   ],
   "source": [
    "cross_validate(NormalPredictor(), data_suprise, cv=2)"
   ]
  },
  {
   "cell_type": "code",
   "execution_count": 14,
   "id": "f72e28f5-5eae-436f-91ac-37eb91dcd605",
   "metadata": {},
   "outputs": [],
   "source": [
    "# Створення моделі SVD\n",
    "model_SVD = SVD(n_factors=100, n_epochs=20, lr_all=0.005, reg_all=0.02)"
   ]
  },
  {
   "cell_type": "code",
   "execution_count": 15,
   "id": "4a052c94-91f6-431c-9042-c710a3d28b4a",
   "metadata": {},
   "outputs": [
    {
     "name": "stdout",
     "output_type": "stream",
     "text": [
      "0.8937410433445004\n",
      "{'n_epochs': 10, 'lr_all': 0.005, 'reg_all': 0.4}\n",
      "0.6918583188165671\n",
      "{'n_epochs': 10, 'lr_all': 0.005, 'reg_all': 0.4}\n"
     ]
    }
   ],
   "source": [
    "param_grid = {\"n_epochs\": [5, 10], \"lr_all\": [0.002, 0.005], \"reg_all\": [0.4, 0.6]}\n",
    "gs = GridSearchCV(SVD, param_grid, measures=[\"rmse\", \"mae\"], cv=3)\n",
    "\n",
    "gs.fit(data_suprise)\n",
    "\n",
    "# best RMSE and MAE scores\n",
    "print(gs.best_score[\"rmse\"])\n",
    "print(gs.best_params[\"rmse\"])\n",
    "\n",
    "print(gs.best_score[\"mae\"])\n",
    "print(gs.best_params[\"mae\"])"
   ]
  },
  {
   "cell_type": "code",
   "execution_count": 16,
   "id": "db072525-b4f0-4a17-bd13-6c31170e35eb",
   "metadata": {},
   "outputs": [],
   "source": [
    "rank = 5"
   ]
  },
  {
   "cell_type": "code",
   "execution_count": 30,
   "id": "a390de20-498a-4b64-9fb3-17cb40c990c8",
   "metadata": {},
   "outputs": [
    {
     "name": "stdout",
     "output_type": "stream",
     "text": [
      "Evaluating RMSE, MAE of algorithm SVD on 5 split(s).\n",
      "\n",
      "                  Fold 1  Fold 2  Fold 3  Fold 4  Fold 5  Mean    Std     \n",
      "RMSE (testset)    0.8705  0.8775  0.8835  0.8682  0.8661  0.8731  0.0064  \n",
      "MAE (testset)     0.6691  0.6757  0.6778  0.6689  0.6643  0.6712  0.0049  \n",
      "Fit time          3.07    3.10    3.02    3.06    2.98    3.05    0.04    \n",
      "Test time         0.33    0.33    0.33    0.61    0.33    0.38    0.11    \n"
     ]
    },
    {
     "data": {
      "text/plain": [
       "{'test_rmse': array([0.87049015, 0.87749241, 0.88346573, 0.86816524, 0.86610048]),\n",
       " 'test_mae': array([0.66912211, 0.6756799 , 0.67783661, 0.66886906, 0.66429648]),\n",
       " 'fit_time': (3.0690360069274902,\n",
       "  3.1039774417877197,\n",
       "  3.024174451828003,\n",
       "  3.0607855319976807,\n",
       "  2.984903335571289),\n",
       " 'test_time': (0.32577037811279297,\n",
       "  0.328005313873291,\n",
       "  0.3319525718688965,\n",
       "  0.6066234111785889,\n",
       "  0.32898664474487305)}"
      ]
     },
     "execution_count": 30,
     "metadata": {},
     "output_type": "execute_result"
    }
   ],
   "source": [
    "results_SVD = cross_validate(model_SVD, data_suprise, measures=['RMSE', 'MAE'], cv=rank, verbose=True)\n",
    "results_SVD"
   ]
  },
  {
   "cell_type": "code",
   "execution_count": 48,
   "id": "08669f8a-c7d3-4e48-b6b5-37f01ae63a0b",
   "metadata": {},
   "outputs": [],
   "source": [
    "# results_SVD['test_rmse'].mean()"
   ]
  },
  {
   "cell_type": "code",
   "execution_count": 18,
   "id": "5ea9881b-4b8c-466a-84a9-a641a6445e6e",
   "metadata": {},
   "outputs": [
    {
     "name": "stdout",
     "output_type": "stream",
     "text": [
      "Evaluating RMSE, MAE of algorithm SVDpp on 5 split(s).\n",
      "\n",
      "                  Fold 1  Fold 2  Fold 3  Fold 4  Fold 5  Mean    Std     \n",
      "RMSE (testset)    0.8580  0.8648  0.8604  0.8567  0.8693  0.8618  0.0046  \n",
      "MAE (testset)     0.6574  0.6592  0.6620  0.6566  0.6665  0.6603  0.0036  \n",
      "Fit time          257.44  254.12  254.96  260.41  250.95  255.58  3.18    \n",
      "Test time         25.44   26.03   25.65   25.10   26.03   25.65   0.36    \n"
     ]
    },
    {
     "data": {
      "text/plain": [
       "{'test_rmse': array([0.85800987, 0.86480845, 0.86038796, 0.85667788, 0.86925567]),\n",
       " 'test_mae': array([0.65735037, 0.65922355, 0.66198689, 0.65662067, 0.6664727 ]),\n",
       " 'fit_time': (257.437881231308,\n",
       "  254.12027192115784,\n",
       "  254.96397852897644,\n",
       "  260.4071640968323,\n",
       "  250.94799637794495),\n",
       " 'test_time': (25.43984866142273,\n",
       "  26.029096126556396,\n",
       "  25.65322780609131,\n",
       "  25.097272396087646,\n",
       "  26.032646656036377)}"
      ]
     },
     "execution_count": 18,
     "metadata": {},
     "output_type": "execute_result"
    }
   ],
   "source": [
    "# Створення моделі SVD++\n",
    "model_SVDpp = SVDpp(n_factors=20, n_epochs=20, lr_all=0.007, reg_all=0.02)\n",
    "results_SVDpp = cross_validate(model_SVDpp, data_suprise, measures=['RMSE', 'MAE'], cv=rank, verbose=True)\n",
    "results_SVDpp"
   ]
  },
  {
   "cell_type": "code",
   "execution_count": 20,
   "id": "cd19a660-9824-4451-a8ba-18ae57170628",
   "metadata": {},
   "outputs": [
    {
     "name": "stdout",
     "output_type": "stream",
     "text": [
      "Evaluating RMSE, MAE of algorithm NMF on 5 split(s).\n",
      "\n",
      "                  Fold 1  Fold 2  Fold 3  Fold 4  Fold 5  Mean    Std     \n",
      "RMSE (testset)    0.9239  0.9207  0.9175  0.9232  0.9229  0.9216  0.0023  \n",
      "MAE (testset)     0.7083  0.7051  0.7024  0.7084  0.7083  0.7065  0.0024  \n",
      "Fit time          5.47    5.58    5.37    5.49    5.39    5.46    0.08    \n",
      "Test time         0.50    0.28    0.47    0.29    0.48    0.40    0.10    \n"
     ]
    },
    {
     "data": {
      "text/plain": [
       "{'test_rmse': array([0.92391146, 0.92070709, 0.91754158, 0.92317609, 0.92286413]),\n",
       " 'test_mae': array([0.70828664, 0.7050756 , 0.70243254, 0.708444  , 0.70829609]),\n",
       " 'fit_time': (5.473883867263794,\n",
       "  5.576924800872803,\n",
       "  5.365061521530151,\n",
       "  5.494812488555908,\n",
       "  5.387246608734131),\n",
       " 'test_time': (0.4987926483154297,\n",
       "  0.27628159523010254,\n",
       "  0.4720921516418457,\n",
       "  0.287334680557251,\n",
       "  0.4847226142883301)}"
      ]
     },
     "execution_count": 20,
     "metadata": {},
     "output_type": "execute_result"
    }
   ],
   "source": [
    "# Створення моделі NMF\n",
    "model_NMF = NMF(n_factors=15, n_epochs=50)\n",
    "results_NMF = cross_validate(model_NMF, data_suprise, measures=['RMSE', 'MAE'], cv=rank, verbose=True)\n",
    "results_NMF"
   ]
  },
  {
   "cell_type": "code",
   "execution_count": 37,
   "id": "8958a87a-d1f8-42b2-83c9-1ed1eb6504a4",
   "metadata": {},
   "outputs": [
    {
     "name": "stdout",
     "output_type": "stream",
     "text": [
      "RMSE: 0.9297\n",
      "MAE:  0.7124\n"
     ]
    },
    {
     "data": {
      "text/plain": [
       "0.7124161659520024"
      ]
     },
     "execution_count": 37,
     "metadata": {},
     "output_type": "execute_result"
    }
   ],
   "source": [
    "trainset, testset = train_test_split(data_suprise, test_size=0.25)\n",
    "\n",
    "model_NMF.fit(trainset)\n",
    "predictions = model_NMF.test(testset)\n",
    "\n",
    "accuracy.rmse(predictions)\n",
    "accuracy.mae(predictions)"
   ]
  },
  {
   "cell_type": "code",
   "execution_count": 23,
   "id": "499d18c7-4076-49d1-bde7-de3b13c7200b",
   "metadata": {},
   "outputs": [
    {
     "data": {
      "image/png": "[encoded data removed]",
      "text/plain": [
       "<Figure size 640x480 with 1 Axes>"
      ]
     },
     "metadata": {},
     "output_type": "display_data"
    }
   ],
   "source": [
    "import matplotlib.pyplot as plt\n",
    "\n",
    "plt.bar(\n",
    "    [\"SVD\", \"SVD++\", \"NMF\"],\n",
    "    [results_SVD['test_rmse'].mean(), results_SVDpp['test_rmse'].mean(), results_NMF['test_rmse'].mean()],\n",
    "    color=[\"b\", \"r\", \"y\", \"g\"],\n",
    ")\n",
    "\n",
    "plt.xlabel(\"Алгоритм\", fontsize=\"small\", color=\"midnightblue\")\n",
    "plt.ylabel(\"Значення\", fontsize=\"small\", color=\"midnightblue\")\n",
    "plt.title(\"RMSE\", fontsize=15)\n",
    "plt.show()"
   ]
  },
  {
   "cell_type": "code",
   "execution_count": 24,
   "id": "e5cd479c-1c0c-4f15-bc8d-5e3e1309144a",
   "metadata": {},
   "outputs": [
    {
     "data": {
      "image/png": "[encoded data removed]",
      "text/plain": [
       "<Figure size 640x480 with 1 Axes>"
      ]
     },
     "metadata": {},
     "output_type": "display_data"
    }
   ],
   "source": [
    "import matplotlib.pyplot as plt\n",
    "\n",
    "plt.bar(\n",
    "    [\"SVD\", \"SVD++\", \"NMF\"],\n",
    "    [results_SVD['test_mae'].mean(), results_SVDpp['test_mae'].mean(), results_NMF['test_mae'].mean()],\n",
    "    color=[\"b\", \"r\", \"y\", \"g\"],\n",
    ")\n",
    "\n",
    "plt.xlabel(\"Алгоритм\", fontsize=\"small\", color=\"midnightblue\")\n",
    "plt.ylabel(\"Значення\", fontsize=\"small\", color=\"midnightblue\")\n",
    "plt.title(\"MAE\", fontsize=15)\n",
    "plt.show()"
   ]
  },
  {
   "cell_type": "code",
   "execution_count": null,
   "id": "edb10877-1529-4e97-b310-26ebf6695bca",
   "metadata": {},
   "outputs": [],
   "source": []
  }
 ],
 "metadata": {
  "kernelspec": {
   "display_name": "Python 3 (ipykernel)",
   "language": "python",
   "name": "python3"
  },
  "language_info": {
   "codemirror_mode": {
    "name": "ipython",
    "version": 3
   },
   "file_extension": ".py",
   "mimetype": "text/x-python",
   "name": "python",
   "nbconvert_exporter": "python",
   "pygments_lexer": "ipython3",
   "version": "3.11.5"
  }
 },
 "nbformat": 4,
 "nbformat_minor": 5
}
