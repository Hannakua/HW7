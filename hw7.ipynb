{
 "cells": [
  {
   "cell_type": "code",
   "execution_count": 68,
   "id": "57e35f8e-6ff1-40c5-85bf-c3f24b7df2de",
   "metadata": {},
   "outputs": [],
   "source": [
    "\n",
    "from surprise import SVD, SVDpp\n",
    "from surprise import Dataset, NormalPredictor\n",
    "from surprise.model_selection import cross_validate\n",
    "import pandas as pd\n",
    "from sklearn.decomposition import NMF\n",
    "import numpy as np\n",
    "from sklearn.metrics import mean_squared_error, mean_absolute_error\n",
    "from surprise import Reader\n",
    "from surprise.model_selection import GridSearchCV\n",
    "\n",
    "# Завантажити movielens-100k dataset (download it if needed).\n",
    "# data_suprise = Dataset.load_builtin('ml-100k')\n",
    "# data = pd.DataFrame(data_suprise.__dict__['raw_ratings'], columns=['user_id','item_id','rating','timestamp'])\n",
    "# data.head()"
   ]
  },
  {
   "cell_type": "code",
   "execution_count": 69,
   "id": "bbe3cf0b-2f85-4abf-928d-553f7b5cb61c",
   "metadata": {},
   "outputs": [
    {
     "data": {
      "text/html": [
       "<div>\n",
       "<style scoped>\n",
       "    .dataframe tbody tr th:only-of-type {\n",
       "        vertical-align: middle;\n",
       "    }\n",
       "\n",
       "    .dataframe tbody tr th {\n",
       "        vertical-align: top;\n",
       "    }\n",
       "\n",
       "    .dataframe thead th {\n",
       "        text-align: right;\n",
       "    }\n",
       "</style>\n",
       "<table border=\"1\" class=\"dataframe\">\n",
       "  <thead>\n",
       "    <tr style=\"text-align: right;\">\n",
       "      <th></th>\n",
       "      <th>userId</th>\n",
       "      <th>movieId</th>\n",
       "      <th>rating</th>\n",
       "      <th>timestamp</th>\n",
       "    </tr>\n",
       "  </thead>\n",
       "  <tbody>\n",
       "    <tr>\n",
       "      <th>0</th>\n",
       "      <td>1</td>\n",
       "      <td>1</td>\n",
       "      <td>4.0</td>\n",
       "      <td>964982703</td>\n",
       "    </tr>\n",
       "    <tr>\n",
       "      <th>1</th>\n",
       "      <td>1</td>\n",
       "      <td>3</td>\n",
       "      <td>4.0</td>\n",
       "      <td>964981247</td>\n",
       "    </tr>\n",
       "    <tr>\n",
       "      <th>2</th>\n",
       "      <td>1</td>\n",
       "      <td>6</td>\n",
       "      <td>4.0</td>\n",
       "      <td>964982224</td>\n",
       "    </tr>\n",
       "    <tr>\n",
       "      <th>3</th>\n",
       "      <td>1</td>\n",
       "      <td>47</td>\n",
       "      <td>5.0</td>\n",
       "      <td>964983815</td>\n",
       "    </tr>\n",
       "    <tr>\n",
       "      <th>4</th>\n",
       "      <td>1</td>\n",
       "      <td>50</td>\n",
       "      <td>5.0</td>\n",
       "      <td>964982931</td>\n",
       "    </tr>\n",
       "  </tbody>\n",
       "</table>\n",
       "</div>"
      ],
      "text/plain": [
       "   userId  movieId  rating  timestamp\n",
       "0       1        1     4.0  964982703\n",
       "1       1        3     4.0  964981247\n",
       "2       1        6     4.0  964982224\n",
       "3       1       47     5.0  964983815\n",
       "4       1       50     5.0  964982931"
      ]
     },
     "execution_count": 69,
     "metadata": {},
     "output_type": "execute_result"
    }
   ],
   "source": [
    "data_csv = pd.read_csv('ml-latest-small/ratings.csv', low_memory=False)\n",
    "data_csv.head()"
   ]
  },
  {
   "cell_type": "code",
   "execution_count": 3,
   "id": "0ad55695-6c8f-4ebb-baa8-095f4324e622",
   "metadata": {},
   "outputs": [],
   "source": [
    "reader = Reader(line_format='user item rating timestamp', sep=',', rating_scale=(1, 5))\n",
    "data_suprise = Dataset.load_from_df(data_csv[['userId', 'movieId', 'rating']], reader=reader)"
   ]
  },
  {
   "cell_type": "code",
   "execution_count": 4,
   "id": "5bd22408-eb2d-44df-aeb8-aad3aedf0c33",
   "metadata": {},
   "outputs": [
    {
     "data": {
      "text/plain": [
       "{'test_rmse': array([1.41933239, 1.42221734]),\n",
       " 'test_mae': array([1.13485196, 1.1366613 ]),\n",
       " 'fit_time': (0.14500117301940918, 0.13199806213378906),\n",
       " 'test_time': (0.7062115669250488, 0.6941678524017334)}"
      ]
     },
     "execution_count": 4,
     "metadata": {},
     "output_type": "execute_result"
    }
   ],
   "source": [
    "cross_validate(NormalPredictor(), data_suprise, cv=2)"
   ]
  },
  {
   "cell_type": "code",
   "execution_count": 42,
   "id": "f72e28f5-5eae-436f-91ac-37eb91dcd605",
   "metadata": {},
   "outputs": [],
   "source": [
    "# Створення моделі SVD\n",
    "rank = 5\n",
    "model_SVD = SVD(n_factors=100, n_epochs=20, lr_all=0.005, reg_all=0.02)"
   ]
  },
  {
   "cell_type": "code",
   "execution_count": 43,
   "id": "a390de20-498a-4b64-9fb3-17cb40c990c8",
   "metadata": {},
   "outputs": [
    {
     "name": "stdout",
     "output_type": "stream",
     "text": [
      "Evaluating RMSE, MAE of algorithm SVD on 5 split(s).\n",
      "\n",
      "                  Fold 1  Fold 2  Fold 3  Fold 4  Fold 5  Mean    Std     \n",
      "RMSE (testset)    0.8680  0.8727  0.8802  0.8753  0.8734  0.8739  0.0040  \n",
      "MAE (testset)     0.6657  0.6713  0.6770  0.6749  0.6704  0.6718  0.0039  \n",
      "Fit time          1.00    1.04    1.01    1.02    1.03    1.02    0.01    \n",
      "Test time         0.10    0.20    0.10    0.10    0.20    0.14    0.05    \n"
     ]
    },
    {
     "data": {
      "text/plain": [
       "{'test_rmse': array([0.86796478, 0.87271841, 0.88021994, 0.87533561, 0.87343047]),\n",
       " 'test_mae': array([0.66568618, 0.67127016, 0.6769504 , 0.67486542, 0.67038301]),\n",
       " 'fit_time': (1.0011684894561768,\n",
       "  1.0389437675476074,\n",
       "  1.0137386322021484,\n",
       "  1.0208492279052734,\n",
       "  1.0265605449676514),\n",
       " 'test_time': (0.09600591659545898,\n",
       "  0.20278477668762207,\n",
       "  0.10119891166687012,\n",
       "  0.09905004501342773,\n",
       "  0.2019214630126953)}"
      ]
     },
     "execution_count": 43,
     "metadata": {},
     "output_type": "execute_result"
    }
   ],
   "source": [
    "results_SVD = cross_validate(model_SVD, data_suprise, measures=['RMSE', 'MAE'], cv=rank, verbose=True)\n",
    "results_SVD"
   ]
  },
  {
   "cell_type": "code",
   "execution_count": 48,
   "id": "08669f8a-c7d3-4e48-b6b5-37f01ae63a0b",
   "metadata": {},
   "outputs": [],
   "source": [
    "# results_SVD['test_rmse'].mean()"
   ]
  },
  {
   "cell_type": "code",
   "execution_count": 7,
   "id": "5ea9881b-4b8c-466a-84a9-a641a6445e6e",
   "metadata": {},
   "outputs": [
    {
     "name": "stdout",
     "output_type": "stream",
     "text": [
      "Evaluating RMSE, MAE of algorithm SVDpp on 5 split(s).\n",
      "\n",
      "                  Fold 1  Fold 2  Fold 3  Fold 4  Fold 5  Mean    Std     \n",
      "RMSE (testset)    0.8630  0.8554  0.8656  0.8531  0.8666  0.8607  0.0055  \n",
      "MAE (testset)     0.6615  0.6572  0.6642  0.6542  0.6639  0.6602  0.0039  \n",
      "Fit time          256.48  260.43  261.09  263.88  260.00  260.38  2.37    \n",
      "Test time         26.75   26.68   26.30   26.83   26.70   26.65   0.18    \n"
     ]
    },
    {
     "data": {
      "text/plain": [
       "{'test_rmse': array([0.86300105, 0.85540807, 0.86564031, 0.85307799, 0.8665593 ]),\n",
       " 'test_mae': array([0.66152921, 0.65721192, 0.6641546 , 0.65417075, 0.66391434]),\n",
       " 'fit_time': (256.4776825904846,\n",
       "  260.43215918540955,\n",
       "  261.0922038555145,\n",
       "  263.8838930130005,\n",
       "  259.9977648258209),\n",
       " 'test_time': (26.748462438583374,\n",
       "  26.675405740737915,\n",
       "  26.304062604904175,\n",
       "  26.83409881591797,\n",
       "  26.698894023895264)}"
      ]
     },
     "execution_count": 7,
     "metadata": {},
     "output_type": "execute_result"
    }
   ],
   "source": [
    "# Створення моделі SVD++\n",
    "model_SVDpp = SVDpp(n_factors=20, n_epochs=20, lr_all=0.007, reg_all=0.02)\n",
    "results_SVDpp = cross_validate(model_SVDpp, data_suprise, measures=['RMSE', 'MAE'], cv=5, verbose=True)\n",
    "results_SVDpp"
   ]
  },
  {
   "cell_type": "code",
   "execution_count": null,
   "id": "cd19a660-9824-4451-a8ba-18ae57170628",
   "metadata": {},
   "outputs": [],
   "source": []
  },
  {
   "cell_type": "code",
   "execution_count": 14,
   "id": "643b456e-4335-4388-ac67-56d65578ab94",
   "metadata": {},
   "outputs": [],
   "source": [
    "data = data_csv[['userId', 'movieId', 'rating']]"
   ]
  },
  {
   "cell_type": "code",
   "execution_count": 83,
   "id": "dd61e3a3-fedd-4477-bdfa-b01186f8e7ae",
   "metadata": {},
   "outputs": [
    {
     "name": "stderr",
     "output_type": "stream",
     "text": [
      "C:\\Users\\user\\anaconda3\\Lib\\site-packages\\sklearn\\decomposition\\_nmf.py:1665: ConvergenceWarning: Maximum number of iterations 500 reached. Increase it to improve convergence.\n",
      "  warnings.warn(\n"
     ]
    },
    {
     "data": {
      "text/html": [
       "<div>\n",
       "<style scoped>\n",
       "    .dataframe tbody tr th:only-of-type {\n",
       "        vertical-align: middle;\n",
       "    }\n",
       "\n",
       "    .dataframe tbody tr th {\n",
       "        vertical-align: top;\n",
       "    }\n",
       "\n",
       "    .dataframe thead th {\n",
       "        text-align: right;\n",
       "    }\n",
       "</style>\n",
       "<table border=\"1\" class=\"dataframe\">\n",
       "  <thead>\n",
       "    <tr style=\"text-align: right;\">\n",
       "      <th></th>\n",
       "      <th>userId</th>\n",
       "      <th>movieId</th>\n",
       "      <th>rating</th>\n",
       "    </tr>\n",
       "  </thead>\n",
       "  <tbody>\n",
       "    <tr>\n",
       "      <th>0</th>\n",
       "      <td>1.066492</td>\n",
       "      <td>1.004244</td>\n",
       "      <td>0.018901</td>\n",
       "    </tr>\n",
       "    <tr>\n",
       "      <th>1</th>\n",
       "      <td>1.066441</td>\n",
       "      <td>3.004242</td>\n",
       "      <td>0.021033</td>\n",
       "    </tr>\n",
       "    <tr>\n",
       "      <th>2</th>\n",
       "      <td>1.066363</td>\n",
       "      <td>6.004239</td>\n",
       "      <td>0.024230</td>\n",
       "    </tr>\n",
       "    <tr>\n",
       "      <th>3</th>\n",
       "      <td>1.082304</td>\n",
       "      <td>47.005279</td>\n",
       "      <td>0.056657</td>\n",
       "    </tr>\n",
       "    <tr>\n",
       "      <th>4</th>\n",
       "      <td>1.082252</td>\n",
       "      <td>50.005277</td>\n",
       "      <td>0.058814</td>\n",
       "    </tr>\n",
       "    <tr>\n",
       "      <th>...</th>\n",
       "      <td>...</td>\n",
       "      <td>...</td>\n",
       "      <td>...</td>\n",
       "    </tr>\n",
       "    <tr>\n",
       "      <th>100831</th>\n",
       "      <td>609.956248</td>\n",
       "      <td>166533.997214</td>\n",
       "      <td>6.130314</td>\n",
       "    </tr>\n",
       "    <tr>\n",
       "      <th>100832</th>\n",
       "      <td>609.966077</td>\n",
       "      <td>168247.998266</td>\n",
       "      <td>6.182121</td>\n",
       "    </tr>\n",
       "    <tr>\n",
       "      <th>100833</th>\n",
       "      <td>609.964749</td>\n",
       "      <td>168249.998098</td>\n",
       "      <td>6.322139</td>\n",
       "    </tr>\n",
       "    <tr>\n",
       "      <th>100834</th>\n",
       "      <td>609.964746</td>\n",
       "      <td>168251.998099</td>\n",
       "      <td>6.309844</td>\n",
       "    </tr>\n",
       "    <tr>\n",
       "      <th>100835</th>\n",
       "      <td>609.945601</td>\n",
       "      <td>170874.996148</td>\n",
       "      <td>6.114124</td>\n",
       "    </tr>\n",
       "  </tbody>\n",
       "</table>\n",
       "<p>100836 rows × 3 columns</p>\n",
       "</div>"
      ],
      "text/plain": [
       "            userId        movieId    rating\n",
       "0         1.066492       1.004244  0.018901\n",
       "1         1.066441       3.004242  0.021033\n",
       "2         1.066363       6.004239  0.024230\n",
       "3         1.082304      47.005279  0.056657\n",
       "4         1.082252      50.005277  0.058814\n",
       "...            ...            ...       ...\n",
       "100831  609.956248  166533.997214  6.130314\n",
       "100832  609.966077  168247.998266  6.182121\n",
       "100833  609.964749  168249.998098  6.322139\n",
       "100834  609.964746  168251.998099  6.309844\n",
       "100835  609.945601  170874.996148  6.114124\n",
       "\n",
       "[100836 rows x 3 columns]"
      ]
     },
     "execution_count": 83,
     "metadata": {},
     "output_type": "execute_result"
    }
   ],
   "source": [
    "rank = 9\n",
    "model = NMF(n_components=rank, init='random', random_state=0, max_iter=500)\n",
    "W = model.fit_transform(data)\n",
    "H = model.components_\n",
    "# V = W @ H \n",
    "V = pd.DataFrame(np.dot(W,H), columns=data.columns)\n",
    "V"
   ]
  },
  {
   "cell_type": "code",
   "execution_count": 58,
   "id": "0a1fdcb6-5e33-4b48-accf-6e2ea727050a",
   "metadata": {},
   "outputs": [
    {
     "data": {
      "text/plain": [
       "1.0003213413165843"
      ]
     },
     "execution_count": 58,
     "metadata": {},
     "output_type": "execute_result"
    }
   ],
   "source": [
    "RMSE_NMF = np.sqrt(mean_squared_error(data, V))\n",
    "RMSE_NMF"
   ]
  },
  {
   "cell_type": "code",
   "execution_count": 84,
   "id": "04a10d50-3157-47a9-b3d9-dc27527980e3",
   "metadata": {},
   "outputs": [
    {
     "data": {
      "text/plain": [
       "0.4747962693657107"
      ]
     },
     "execution_count": 84,
     "metadata": {},
     "output_type": "execute_result"
    }
   ],
   "source": [
    "МАE_NMF = mean_absolute_error(data, V)\n",
    "МАE_NMF"
   ]
  },
  {
   "cell_type": "code",
   "execution_count": 71,
   "id": "8958a87a-d1f8-42b2-83c9-1ed1eb6504a4",
   "metadata": {},
   "outputs": [
    {
     "name": "stdout",
     "output_type": "stream",
     "text": [
      "RMSE: 0.8783\n"
     ]
    },
    {
     "data": {
      "text/plain": [
       "0.8782866589961893"
      ]
     },
     "execution_count": 71,
     "metadata": {},
     "output_type": "execute_result"
    }
   ],
   "source": [
    "from surprise import accuracy\n",
    "from surprise.model_selection import train_test_split\n",
    "\n",
    "# sample random trainset and testset\n",
    "# test set is made of 25% of the ratings.\n",
    "trainset, testset = train_test_split(data_suprise, test_size=0.25)\n",
    "\n",
    "# We'll use the famous SVD algorithm.\n",
    "algo = SVD()\n",
    "\n",
    "# Train the algorithm on the trainset, and predict ratings for the testset\n",
    "algo.fit(trainset)\n",
    "predictions = algo.test(testset)\n",
    "\n",
    "# Then compute RMSE\n",
    "accuracy.rmse(predictions)"
   ]
  },
  {
   "cell_type": "code",
   "execution_count": 72,
   "id": "499d18c7-4076-49d1-bde7-de3b13c7200b",
   "metadata": {},
   "outputs": [
    {
     "data": {
      "image/png": "[encoded data removed]",
      "text/plain": [
       "<Figure size 640x480 with 1 Axes>"
      ]
     },
     "metadata": {},
     "output_type": "display_data"
    }
   ],
   "source": [
    "import matplotlib.pyplot as plt\n",
    "\n",
    "plt.bar(\n",
    "    [\"SVD\", \"SVD++\", \"NMF\"],\n",
    "    [results_SVD['test_rmse'].mean(), results_SVDpp['test_rmse'].mean(), RMSE_NMF],\n",
    "    color=[\"b\", \"r\", \"y\", \"g\"],\n",
    ")\n",
    "\n",
    "plt.xlabel(\"Алгоритм\", fontsize=\"small\", color=\"midnightblue\")\n",
    "plt.ylabel(\"Значення\", fontsize=\"small\", color=\"midnightblue\")\n",
    "plt.title(\"RMSE\", fontsize=15)\n",
    "plt.show()"
   ]
  },
  {
   "cell_type": "code",
   "execution_count": 76,
   "id": "e5cd479c-1c0c-4f15-bc8d-5e3e1309144a",
   "metadata": {},
   "outputs": [
    {
     "data": {
      "image/png": "[encoded data removed]",
      "text/plain": [
       "<Figure size 640x480 with 1 Axes>"
      ]
     },
     "metadata": {},
     "output_type": "display_data"
    }
   ],
   "source": [
    "import matplotlib.pyplot as plt\n",
    "\n",
    "plt.bar(\n",
    "    [\"SVD\", \"SVD++\", \"NMF\"],\n",
    "    [results_SVD['test_mae'].mean(), results_SVDpp['test_mae'].mean(), МАE_NMF],\n",
    "    color=[\"b\", \"r\", \"y\", \"g\"],\n",
    ")\n",
    "\n",
    "plt.xlabel(\"Алгоритм\", fontsize=\"small\", color=\"midnightblue\")\n",
    "plt.ylabel(\"Значення\", fontsize=\"small\", color=\"midnightblue\")\n",
    "plt.title(\"MAE\", fontsize=15)\n",
    "plt.show()"
   ]
  }
 ],
 "metadata": {
  "kernelspec": {
   "display_name": "Python 3 (ipykernel)",
   "language": "python",
   "name": "python3"
  },
  "language_info": {
   "codemirror_mode": {
    "name": "ipython",
    "version": 3
   },
   "file_extension": ".py",
   "mimetype": "text/x-python",
   "name": "python",
   "nbconvert_exporter": "python",
   "pygments_lexer": "ipython3",
   "version": "3.11.5"
  }
 },
 "nbformat": 4,
 "nbformat_minor": 5
}
